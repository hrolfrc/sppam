{
 "cells": [
  {
   "cell_type": "markdown",
   "source": [
    "# User Guide"
   ],
   "metadata": {
    "collapsed": false
   },
   "id": "43f09e24179a7f59"
  },
  {
   "cell_type": "markdown",
   "source": [
    "#### Make a classification problem"
   ],
   "metadata": {
    "collapsed": false
   },
   "id": "1e27f8313d2a1d91"
  },
  {
   "cell_type": "code",
   "execution_count": 10,
   "outputs": [],
   "source": [
    "from sppam import SPPAM\n",
    "from sklearn.datasets import make_classification\n",
    "from sklearn.model_selection import train_test_split\n",
    "from sklearn.metrics import roc_auc_score\n",
    "import numpy as np"
   ],
   "metadata": {
    "collapsed": false,
    "ExecuteTime": {
     "end_time": "2023-08-01T21:53:21.443304410Z",
     "start_time": "2023-08-01T21:53:21.196231563Z"
    }
   },
   "id": "5f8ff579f960466f"
  },
  {
   "cell_type": "code",
   "execution_count": 11,
   "outputs": [],
   "source": [
    "seed = 43\n",
    "X, y = make_classification(\n",
    "    n_samples=100,\n",
    "    n_features=5,\n",
    "    n_informative=2,\n",
    "    n_redundant=2,\n",
    "    n_classes=2,\n",
    "    random_state=seed\n",
    ")\n",
    "X_train, X_test, y_train, y_test = train_test_split(X, y, random_state=seed)"
   ],
   "metadata": {
    "collapsed": false,
    "ExecuteTime": {
     "end_time": "2023-08-01T21:53:21.444029888Z",
     "start_time": "2023-08-01T21:53:21.222251504Z"
    }
   },
   "id": "3fc2e64e076e8af8"
  },
  {
   "cell_type": "markdown",
   "source": [
    "#### Train the classifier "
   ],
   "metadata": {
    "collapsed": false
   },
   "id": "1cff0b3722c8d3cd"
  },
  {
   "cell_type": "code",
   "execution_count": 12,
   "outputs": [],
   "source": [
    "cls = SPPAM().fit(X_train, y_train)"
   ],
   "metadata": {
    "collapsed": false,
    "ExecuteTime": {
     "end_time": "2023-08-01T21:53:21.489641401Z",
     "start_time": "2023-08-01T21:53:21.222635277Z"
    }
   },
   "id": "ac3be262ca6f298a"
  },
  {
   "cell_type": "markdown",
   "source": [
    "#### Get the score on unseen data"
   ],
   "metadata": {
    "collapsed": false
   },
   "id": "7b5167b9aa297f73"
  },
  {
   "cell_type": "code",
   "execution_count": 13,
   "outputs": [
    {
     "data": {
      "text/plain": "0.88"
     },
     "execution_count": 13,
     "metadata": {},
     "output_type": "execute_result"
    }
   ],
   "source": [
    "cls.score(X_test, y_test)"
   ],
   "metadata": {
    "collapsed": false,
    "ExecuteTime": {
     "end_time": "2023-08-01T21:53:21.586469389Z",
     "start_time": "2023-08-01T21:53:21.311123112Z"
    }
   },
   "id": "b5f36c9e0d813e5e"
  },
  {
   "cell_type": "markdown",
   "source": [
    "#### Class probabilities\n",
    "We vertically stack the ground truth on the top with the probabilities of class 1 on the bottom.\n",
    "The first five entries are shown. "
   ],
   "metadata": {
    "collapsed": false
   },
   "id": "bc18a50bba0f6447"
  },
  {
   "cell_type": "code",
   "execution_count": 14,
   "outputs": [
    {
     "data": {
      "text/plain": "array([[0.  , 1.  , 1.  , 0.  , 0.  ],\n       [0.65, 0.39, 0.3 , 0.96, 0.83],\n       [0.35, 0.61, 0.7 , 0.04, 0.17]])"
     },
     "execution_count": 14,
     "metadata": {},
     "output_type": "execute_result"
    }
   ],
   "source": [
    "np.round(np.vstack((y_train, cls.predict_proba(X_train).T))[:, 0:5], 2)"
   ],
   "metadata": {
    "collapsed": false,
    "ExecuteTime": {
     "end_time": "2023-08-01T21:53:21.587570922Z",
     "start_time": "2023-08-01T21:53:21.311592005Z"
    }
   },
   "id": "f21f37c94be9a177"
  },
  {
   "cell_type": "code",
   "execution_count": 15,
   "outputs": [
    {
     "data": {
      "text/plain": "0.9544159544159544"
     },
     "execution_count": 15,
     "metadata": {},
     "output_type": "execute_result"
    }
   ],
   "source": [
    "roc_auc_score(y_true=y_train, y_score=cls.predict_proba(X_train)[:, 1])"
   ],
   "metadata": {
    "collapsed": false,
    "ExecuteTime": {
     "end_time": "2023-08-01T21:53:21.589701383Z",
     "start_time": "2023-08-01T21:53:21.312016509Z"
    }
   },
   "id": "b7c74c1e8f6811f5"
  },
  {
   "cell_type": "markdown",
   "source": [
    "#### Predict the classes\n",
    "The ground truth is on the top and the predicted class is on the bottom.\n",
    "The first column is the index.  The first five entries are shown."
   ],
   "metadata": {
    "collapsed": false
   },
   "id": "3d89a80afd8923f3"
  },
  {
   "cell_type": "code",
   "execution_count": 16,
   "outputs": [
    {
     "data": {
      "text/plain": "array([[1, 0, 0, 0, 1],\n       [1, 0, 0, 0, 1]])"
     },
     "execution_count": 16,
     "metadata": {},
     "output_type": "execute_result"
    }
   ],
   "source": [
    "y_pred = cls.predict(X_test)\n",
    "np.vstack((y_test, y_pred))[:, 0:5]"
   ],
   "metadata": {
    "collapsed": false,
    "ExecuteTime": {
     "end_time": "2023-08-01T21:53:21.590610132Z",
     "start_time": "2023-08-01T21:53:21.355341805Z"
    }
   },
   "id": "e4da094cd33d90c2"
  },
  {
   "cell_type": "markdown",
   "source": [
    "The class prediction is expected to be lower than the auc prediction."
   ],
   "metadata": {
    "collapsed": false
   },
   "id": "5566d8e9ca6f146e"
  },
  {
   "cell_type": "code",
   "execution_count": 17,
   "outputs": [
    {
     "data": {
      "text/plain": "0.8733766233766235"
     },
     "execution_count": 17,
     "metadata": {},
     "output_type": "execute_result"
    }
   ],
   "source": [
    "roc_auc_score(y_true=y_test, y_score=y_pred)"
   ],
   "metadata": {
    "collapsed": false,
    "ExecuteTime": {
     "end_time": "2023-08-01T21:53:21.591678071Z",
     "start_time": "2023-08-01T21:53:21.355729536Z"
    }
   },
   "id": "37d1289039d27501"
  }
 ],
 "metadata": {
  "kernelspec": {
   "display_name": "Python 3",
   "language": "python",
   "name": "python3"
  },
  "language_info": {
   "codemirror_mode": {
    "name": "ipython",
    "version": 2
   },
   "file_extension": ".py",
   "mimetype": "text/x-python",
   "name": "python",
   "nbconvert_exporter": "python",
   "pygments_lexer": "ipython2",
   "version": "2.7.6"
  }
 },
 "nbformat": 4,
 "nbformat_minor": 5
}
