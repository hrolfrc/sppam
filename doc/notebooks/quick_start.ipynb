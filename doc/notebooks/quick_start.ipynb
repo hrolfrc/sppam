{
 "cells": [
  {
   "cell_type": "markdown",
   "source": [
    "# Quick Start"
   ],
   "metadata": {
    "collapsed": false
   },
   "id": "5bb4e8e733a41021"
  },
  {
   "cell_type": "code",
   "execution_count": 14,
   "id": "337571e3d5282eca",
   "metadata": {
    "collapsed": true,
    "ExecuteTime": {
     "end_time": "2023-08-01T21:12:43.768413622Z",
     "start_time": "2023-08-01T21:12:43.658383213Z"
    }
   },
   "outputs": [],
   "source": [
    "from sppam import SPPAM\n",
    "from sklearn.datasets import make_classification\n",
    "from sklearn.model_selection import train_test_split"
   ]
  },
  {
   "cell_type": "markdown",
   "source": [
    "#### Make a classification problem"
   ],
   "metadata": {
    "collapsed": false
   },
   "id": "4bbdbf58a9d3248d"
  },
  {
   "cell_type": "code",
   "execution_count": 15,
   "outputs": [],
   "source": [
    "seed = 42\n",
    "X, y = make_classification(\n",
    "    n_samples=30,\n",
    "    n_features=5,\n",
    "    n_informative=2,\n",
    "    n_redundant=2,\n",
    "    n_classes=2,\n",
    "    random_state=seed\n",
    ")\n",
    "X_train, X_test, y_train, y_test = train_test_split(X, y, random_state=seed)"
   ],
   "metadata": {
    "collapsed": false,
    "ExecuteTime": {
     "end_time": "2023-08-01T21:12:43.770616105Z",
     "start_time": "2023-08-01T21:12:43.668659655Z"
    }
   },
   "id": "7faf25450f3a08cb"
  },
  {
   "cell_type": "markdown",
   "source": [
    "#### Train the classifier "
   ],
   "metadata": {
    "collapsed": false
   },
   "id": "a1d4d82f90337b46"
  },
  {
   "cell_type": "code",
   "execution_count": 16,
   "outputs": [],
   "source": [
    "cls = SPPAM().fit(X_train, y_train)"
   ],
   "metadata": {
    "collapsed": false,
    "ExecuteTime": {
     "end_time": "2023-08-01T21:12:43.820622840Z",
     "start_time": "2023-08-01T21:12:43.723382470Z"
    }
   },
   "id": "23d81bb11da1b80c"
  },
  {
   "cell_type": "markdown",
   "source": [
    "#### Get the score on unseen data"
   ],
   "metadata": {
    "collapsed": false
   },
   "id": "d35e1bee5dcdb595"
  },
  {
   "cell_type": "code",
   "execution_count": 17,
   "outputs": [
    {
     "data": {
      "text/plain": "1.0"
     },
     "execution_count": 17,
     "metadata": {},
     "output_type": "execute_result"
    }
   ],
   "source": [
    "cls.score(X_test, y_test)"
   ],
   "metadata": {
    "collapsed": false,
    "ExecuteTime": {
     "end_time": "2023-08-01T21:12:43.821756225Z",
     "start_time": "2023-08-01T21:12:43.724298995Z"
    }
   },
   "id": "9107756da0d7707d"
  }
 ],
 "metadata": {
  "kernelspec": {
   "display_name": "Python 3",
   "language": "python",
   "name": "python3"
  },
  "language_info": {
   "codemirror_mode": {
    "name": "ipython",
    "version": 2
   },
   "file_extension": ".py",
   "mimetype": "text/x-python",
   "name": "python",
   "nbconvert_exporter": "python",
   "pygments_lexer": "ipython2",
   "version": "2.7.6"
  }
 },
 "nbformat": 4,
 "nbformat_minor": 5
}
